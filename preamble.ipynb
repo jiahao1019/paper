{
 "cells": [
  {
   "cell_type": "code",
   "execution_count": 1,
   "metadata": {},
   "outputs": [
    {
     "name": "stdout",
     "output_type": "stream",
     "text": [
      "【日期時間】2022/10/21 17:18:25\n",
      "【工作目錄】c:\\Users\\user\\Desktop\\ICO_face\n",
      "【主機名稱】DESKTOP-AHINHHC (192.168.213.153)\n",
      "【程式版本】3.9.5\n"
     ]
    },
    {
     "data": {
      "application/javascript": "IPython.notebook.set_autosave_interval(120000)"
     },
     "metadata": {},
     "output_type": "display_data"
    },
    {
     "name": "stdout",
     "output_type": "stream",
     "text": [
      "Autosaving every 120 seconds\n"
     ]
    }
   ],
   "source": [
    "#-*-coding:UTF-8-*- \n",
    "import warnings\n",
    "warnings.filterwarnings(\"ignore\")\n",
    "import os, time, glob, socket\n",
    "from platform import python_version\n",
    "import math\n",
    "import numpy as np\n",
    "import matplotlib\n",
    "from matplotlib.pyplot import imshow\n",
    "import matplotlib.pyplot as plt \n",
    "from PIL import Image, ImageDraw\n",
    "import urllib.request\n",
    "import pandas as pd\n",
    "import re #search data\n",
    "from pathlib import Path #find png.etc\n",
    "from collections import Counter\n",
    "from sas7bdat import SAS7BDAT\n",
    "from openpyxl import load_workbook\n",
    "\n",
    "import cv2\n",
    "import math\n",
    "from collections import defaultdict\n",
    "from PIL import Image,ImageDraw\n",
    "from matplotlib.pyplot import imshow\n",
    "%matplotlib inline\n",
    "import matplotlib.pyplot as plt\n",
    "import face_recognition  # install from https://github.com/ageitgey/face_recognition\n",
    "\n",
    "\n",
    "from imutils import face_utils\n",
    "import imutils\n",
    "import collections\n",
    "import dlib\n",
    "import skimage\n",
    "\n",
    "from sklearn.linear_model import LinearRegression\n",
    "from sklearn.preprocessing import PolynomialFeatures\n",
    "from sklearn.linear_model import ElasticNet\n",
    "\n",
    "from scipy.stats import entropy\n",
    "\n",
    "from matplotlib import pyplot as plt\n",
    "from sklearn.model_selection import train_test_split\n",
    "from sklearn.datasets import load_boston\n",
    "from sklearn.metrics import mean_squared_error\n",
    "from scipy.stats.mstats import winsorize\n",
    "\n",
    "#回歸模型\n",
    "import statsmodels.api as sm\n",
    "\n",
    "#匯入套件\n",
    "import requests \n",
    "from bs4 import BeautifulSoup \n",
    "import csv \n",
    "from requests import get \n",
    "from io import BytesIO\n",
    "from zipfile import ZipFile\n",
    "print(\"【日期時間】{}\".format(time.strftime(\"%Y/%m/%d %H:%M:%S\")))\n",
    "print(\"【工作目錄】{}\".format(os.getcwd()))\n",
    "print(\"【主機名稱】{} ({})\".format(socket.gethostname(),socket.gethostbyname(socket.gethostname())))\n",
    "print(\"【程式版本】{}\".format(python_version()))\n",
    "\n",
    "\n",
    "path_land = 'C:/Users/user/Desktop/ICO_face/shape_predictor_68_face_landmarks.dat'    # 絕對路徑\n",
    "%autosave 120"
   ]
  }
 ],
 "metadata": {
  "kernelspec": {
   "display_name": "Python 3.9.5 64-bit",
   "language": "python",
   "name": "python3"
  },
  "language_info": {
   "codemirror_mode": {
    "name": "ipython",
    "version": 3
   },
   "file_extension": ".py",
   "mimetype": "text/x-python",
   "name": "python",
   "nbconvert_exporter": "python",
   "pygments_lexer": "ipython3",
   "version": "3.9.5"
  },
  "orig_nbformat": 4,
  "vscode": {
   "interpreter": {
    "hash": "82ed002fa2d4956f5c6aec99bcefe0f73a9f79882f3c9e2319b14958a5896ac5"
   }
  }
 },
 "nbformat": 4,
 "nbformat_minor": 2
}
